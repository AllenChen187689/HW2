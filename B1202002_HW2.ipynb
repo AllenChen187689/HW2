{
  "nbformat": 4,
  "nbformat_minor": 0,
  "metadata": {
    "colab": {
      "provenance": []
    },
    "kernelspec": {
      "name": "python3",
      "display_name": "Python 3"
    },
    "language_info": {
      "name": "python"
    }
  },
  "cells": [
    {
      "cell_type": "code",
      "execution_count": 1,
      "metadata": {
        "colab": {
          "base_uri": "https://localhost:8080/"
        },
        "id": "_m9PzpCpUXr0",
        "outputId": "b0b1ae05-2e83-4183-b90d-2639a67e3261"
      },
      "outputs": [
        {
          "output_type": "stream",
          "name": "stdout",
          "text": [
            "A\n",
            "['K', 'H', 'U']\n"
          ]
        }
      ],
      "source": [
        "a='C,B,A'\n",
        "b=['F','G','H']\n",
        "a=a.split(',')\n",
        "c=a+b\n",
        "c[0]='K'\n",
        "d=c.pop(2)\n",
        "print(d)\n",
        "c.append('U')\n",
        "del c[1:4]\n",
        "print(c)"
      ]
    },
    {
      "cell_type": "code",
      "source": [
        "a=input('請輸入一個八位數:')\n",
        "print(\"第五個數字為:\",a[4])"
      ],
      "metadata": {
        "colab": {
          "base_uri": "https://localhost:8080/"
        },
        "id": "Ub_RfH6bdYii",
        "outputId": "9044c2ed-86f5-4a3b-f2f6-291a065d797f"
      },
      "execution_count": 2,
      "outputs": [
        {
          "output_type": "stream",
          "name": "stdout",
          "text": [
            "請輸入一個八位數:12345678\n",
            "第五個數字為: 5\n"
          ]
        }
      ]
    },
    {
      "cell_type": "code",
      "source": [
        "a='My ID is B1202002'\n",
        "b=a.split()\n",
        "print(\"此字串共有\",len(b),\"個字\")\n",
        "print(\"此ID共有\",len(b[3]),\"個元素\")\n"
      ],
      "metadata": {
        "colab": {
          "base_uri": "https://localhost:8080/"
        },
        "id": "mw_roTUvdYrz",
        "outputId": "d44ff606-4e77-42d7-8ca4-4968c112a932"
      },
      "execution_count": 3,
      "outputs": [
        {
          "output_type": "stream",
          "name": "stdout",
          "text": [
            "此字串共有 4 個字\n",
            "此ID共有 8 個元素\n"
          ]
        }
      ]
    },
    {
      "cell_type": "code",
      "source": [
        "a=\"I'm a student\"\n",
        "b=a.split()\n",
        "print(b[0][2],\"為第三個元素\")"
      ],
      "metadata": {
        "colab": {
          "base_uri": "https://localhost:8080/"
        },
        "id": "ZP1RclrBdY0S",
        "outputId": "8e2b1ed1-2066-466c-c9d2-2c6eb9db601e"
      },
      "execution_count": 4,
      "outputs": [
        {
          "output_type": "stream",
          "name": "stdout",
          "text": [
            "m 為第三個元素\n"
          ]
        }
      ]
    }
  ]
}